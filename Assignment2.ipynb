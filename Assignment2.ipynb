{
 "cells": [
  {
   "cell_type": "code",
   "execution_count": 6,
   "metadata": {},
   "outputs": [],
   "source": [
    "import numpy as np\n",
    "import scipy.linalg as la\n",
    "import sympy as sp\n",
    "from scipy.special import binom\n",
    "import matplotlib.pyplot as plt\n",
    "%matplotlib qt"
   ]
  },
  {
   "cell_type": "code",
   "execution_count": 7,
   "metadata": {},
   "outputs": [],
   "source": [
    "n = 5 #size of matrix\n",
    "rng = np.random.default_rng()\n",
    "samples= int(2*binom((n**2),(n**2)//2))\n",
    "Det=[]"
   ]
  },
  {
   "cell_type": "code",
   "execution_count": 8,
   "metadata": {},
   "outputs": [],
   "source": [
    "#checks that matrix A has the correct number of 0s and 1s, if it does, then it adds the determinant of A to the list Det\n",
    "def SumofA(A):\n",
    "    SoA = int(0)\n",
    "    for i in range(n):\n",
    "        for j in range(n):\n",
    "            SoA = SoA + A[i,j]\n",
    "    return SoA\n",
    "\n",
    "def checkA(A):\n",
    "    if (n % 2) == 0 and SumofA(A)== (n**2)/2:\n",
    "        Det.append(la.det(A))\n",
    "    elif (n**2)//2 <= SumofA(A) <= ((n**2)//2)+1 and (n%2)==1:\n",
    "        Det.append(la.det(A))\n",
    "        return Det"
   ]
  },
  {
   "cell_type": "code",
   "execution_count": 9,
   "metadata": {},
   "outputs": [],
   "source": [
    "#generate \"samples\" no. of random matrices A\n",
    "while len(Det) < samples:\n",
    "    A = rng.integers(0,2, (n,n))\n",
    "    checkA(A)\n",
    "      "
   ]
  },
  {
   "cell_type": "code",
   "execution_count": 10,
   "metadata": {},
   "outputs": [
    {
     "data": {
      "text/plain": [
       "<function matplotlib.pyplot.show(*, block=None)>"
      ]
     },
     "execution_count": 10,
     "metadata": {},
     "output_type": "execute_result"
    }
   ],
   "source": [
    "Max = max(Det)\n",
    "Min = min(Det)\n",
    "bins = np.arange(Min, Max+2)-0.5\n",
    "\n",
    "fig, ax = plt.subplots(1,1)\n",
    "\n",
    "Data, B1, B2 = ax.hist(Det, bins, density = True, rwidth=0.8)\n",
    "ax.set_xlim(Min -1, Max+1)\n",
    "ax.set_xticks(np.arange(Min, Max+1))\n",
    "ax.set_xlabel('Det A')\n",
    "ax.set_ylabel('Probability Mass Function')\n",
    "plt.grid('on')\n",
    "plt.show"
   ]
  },
  {
   "cell_type": "code",
   "execution_count": null,
   "metadata": {},
   "outputs": [],
   "source": []
  }
 ],
 "metadata": {
  "kernelspec": {
   "display_name": "Python 3",
   "language": "python",
   "name": "python3"
  },
  "language_info": {
   "codemirror_mode": {
    "name": "ipython",
    "version": 3
   },
   "file_extension": ".py",
   "mimetype": "text/x-python",
   "name": "python",
   "nbconvert_exporter": "python",
   "pygments_lexer": "ipython3",
   "version": "3.8.5"
  }
 },
 "nbformat": 4,
 "nbformat_minor": 4
}
